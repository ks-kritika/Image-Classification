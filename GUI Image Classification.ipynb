{
 "cells": [
  {
   "cell_type": "code",
   "execution_count": 70,
   "id": "9cebf40a",
   "metadata": {},
   "outputs": [],
   "source": [
    "import tkinter as tk\n",
    "from tkinter import filedialog\n",
    "from tkinter import *\n",
    "from PIL import ImageTk, Image\n",
    "import numpy as np"
   ]
  },
  {
   "cell_type": "markdown",
   "id": "5f53aca0",
   "metadata": {},
   "source": [
    "Loading the trained model to classify the images"
   ]
  },
  {
   "cell_type": "code",
   "execution_count": 71,
   "id": "59284903",
   "metadata": {},
   "outputs": [],
   "source": [
    "from keras.models import load_model\n",
    "model = load_model('model1_cifar_10epoch.h5')"
   ]
  },
  {
   "cell_type": "markdown",
   "id": "9d35cd38",
   "metadata": {},
   "source": [
    "Creating a dictionary to label all the CIFAR-10 dataset classes"
   ]
  },
  {
   "cell_type": "code",
   "execution_count": 72,
   "id": "bbe83c36",
   "metadata": {},
   "outputs": [],
   "source": [
    "classes = { \n",
    "    0:'aeroplane',\n",
    "    1:'automobile',\n",
    "    2:'bird',\n",
    "    3:'cat',\n",
    "    4:'deer',\n",
    "    5:'dog',\n",
    "    6:'frog',\n",
    "    7:'horse',\n",
    "    8:'ship',\n",
    "    9:'truck' \n",
    "}"
   ]
  },
  {
   "cell_type": "markdown",
   "id": "a58ded71",
   "metadata": {},
   "source": [
    "Initialising GUI"
   ]
  },
  {
   "cell_type": "code",
   "execution_count": 73,
   "id": "0befb62f",
   "metadata": {},
   "outputs": [],
   "source": [
    "root=tk.Tk()\n",
    "root.geometry('800x600')\n",
    "root.title('Image Classification CIFAR10')\n",
    "root.configure(background='#CDCDCD')\n",
    "label=Label(root,background='#CDCDCD', font=('arial',15,'bold'))\n",
    "sign_image = Label(root)"
   ]
  },
  {
   "cell_type": "code",
   "execution_count": 74,
   "id": "60d6d865",
   "metadata": {},
   "outputs": [],
   "source": [
    "def classify(file_path):\n",
    "    global label_packed\n",
    "    image = Image.open(file_path)\n",
    "    image = image.resize((32,32))\n",
    "    image = np.expand_dims(image, axis=0)\n",
    "    image = np.array(image)\n",
    "    pred = model.predict_classes([image])[0]\n",
    "    sign = classes[pred]\n",
    "    print(sign)\n",
    "    label.configure(foreground='#011638', text=sign) "
   ]
  },
  {
   "cell_type": "code",
   "execution_count": 75,
   "id": "c1fb813a",
   "metadata": {},
   "outputs": [],
   "source": [
    "def show_classify_button(file_path):\n",
    "    classify_b=Button(top,text=\"Classify Image\",\n",
    "   command=lambda: classify(file_path),padx=10,pady=5)\n",
    "    classify_b.configure(background='#364156', foreground='white', font=('arial',10,'bold'))\n",
    "    classify_b.place(relx=0.79,rely=0.46)"
   ]
  },
  {
   "cell_type": "code",
   "execution_count": 76,
   "id": "b7366d22",
   "metadata": {},
   "outputs": [],
   "source": [
    "def upload_image():\n",
    "    try:\n",
    "        file_path=filedialog.askopenfilename()\n",
    "        uploaded=Image.open(file_path)\n",
    "        uploaded.thumbnail(((top.winfo_width()/2.25),(top.winfo_height()/2.25)))\n",
    "        im=ImageTk.PhotoImage(uploaded)\n",
    "        sign_image.configure(image=im)\n",
    "        sign_image.image=im\n",
    "        label.configure(text='')\n",
    "        show_classify_button(file_path)\n",
    "    except:\n",
    "        pass"
   ]
  },
  {
   "cell_type": "code",
   "execution_count": 77,
   "id": "f0d58c00",
   "metadata": {},
   "outputs": [],
   "source": [
    "upload=Button(root,text=\"Upload an image\",command=upload_image,padx=10,pady=5)\n",
    "\n",
    "upload.configure(background='#364156', foreground='white', font=('arial',10,'bold'))\n",
    "\n",
    "upload.pack(side=BOTTOM,pady=50)\n",
    "\n",
    "sign_image.pack(side=BOTTOM,expand=True)\n",
    "\n",
    "label.pack(side=BOTTOM,expand=True)\n",
    "\n",
    "heading = Label(root, text=\"Image Classification CIFAR10\",pady=20, font=('arial',20,'bold'))\n",
    "\n",
    "heading.configure(background='#CDCDCD',foreground='#364156')\n",
    "\n",
    "heading.pack()"
   ]
  },
  {
   "cell_type": "code",
   "execution_count": 78,
   "id": "22cab8c9",
   "metadata": {},
   "outputs": [],
   "source": [
    "root.mainloop()"
   ]
  }
 ],
 "metadata": {
  "kernelspec": {
   "display_name": "Python 3",
   "language": "python",
   "name": "python3"
  },
  "language_info": {
   "codemirror_mode": {
    "name": "ipython",
    "version": 3
   },
   "file_extension": ".py",
   "mimetype": "text/x-python",
   "name": "python",
   "nbconvert_exporter": "python",
   "pygments_lexer": "ipython3",
   "version": "3.9.6"
  }
 },
 "nbformat": 4,
 "nbformat_minor": 5
}
